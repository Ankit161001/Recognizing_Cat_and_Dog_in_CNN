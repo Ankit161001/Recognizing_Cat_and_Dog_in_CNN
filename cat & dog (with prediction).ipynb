{
 "cells": [
  {
   "cell_type": "code",
   "execution_count": 1,
   "metadata": {},
   "outputs": [],
   "source": [
    "# Building the CNN\n",
    "import keras\n",
    "import PIL"
   ]
  },
  {
   "cell_type": "code",
   "execution_count": 2,
   "metadata": {},
   "outputs": [],
   "source": [
    "from keras.models import Sequential\n",
    "from keras.layers import Conv2D\n",
    "from keras.layers import MaxPooling2D\n",
    "from keras.layers import Flatten\n",
    "from keras.layers import Dense, Dropout"
   ]
  },
  {
   "cell_type": "code",
   "execution_count": 3,
   "metadata": {},
   "outputs": [],
   "source": [
    "# Initialising the CNN\n",
    "\n",
    "CNN_Classification=Sequential();"
   ]
  },
  {
   "cell_type": "code",
   "execution_count": 4,
   "metadata": {},
   "outputs": [],
   "source": [
    "# Step 1 - Convolution\n",
    "CNN_Classification.add(Conv2D(32,(3,3),input_shape=(64,64,3),activation='relu'))\n",
    "CNN_Classification.add(Conv2D(16,(3,3),activation='relu'))"
   ]
  },
  {
   "cell_type": "code",
   "execution_count": 5,
   "metadata": {},
   "outputs": [],
   "source": [
    "# Step 2 - Pooling\n",
    "CNN_Classification.add(MaxPooling2D(pool_size=(2,2)))\n",
    "CNN_Classification.add(MaxPooling2D(pool_size=(2,2)))"
   ]
  },
  {
   "cell_type": "code",
   "execution_count": 6,
   "metadata": {},
   "outputs": [],
   "source": [
    "# Step 3 - Flattening\n",
    "CNN_Classification.add(Flatten())"
   ]
  },
  {
   "cell_type": "code",
   "execution_count": 7,
   "metadata": {},
   "outputs": [],
   "source": [
    "# Step 4 - Full connection\n",
    "\n",
    "CNN_Classification.add(Dense(units=128, activation='relu'))\n",
    "CNN_Classification.add(Dense(units=1, activation='sigmoid'))"
   ]
  },
  {
   "cell_type": "code",
   "execution_count": 8,
   "metadata": {},
   "outputs": [],
   "source": [
    "# Compiling the CNN\n",
    "CNN_Classification.compile(optimizer ='adam',loss='binary_crossentropy',metrics=['accuracy'])"
   ]
  },
  {
   "cell_type": "code",
   "execution_count": 9,
   "metadata": {},
   "outputs": [
    {
     "name": "stdout",
     "output_type": "stream",
     "text": [
      "Found 8000 images belonging to 2 classes.\n",
      "Found 2000 images belonging to 2 classes.\n",
      "WARNING:tensorflow:From <ipython-input-9-3817fb0db88f>:24: Model.fit_generator (from tensorflow.python.keras.engine.training) is deprecated and will be removed in a future version.\n",
      "Instructions for updating:\n",
      "Please use Model.fit, which supports generators.\n",
      "Epoch 1/3\n",
      "250/250 [==============================] - 71s 285ms/step - loss: 0.6750 - accuracy: 0.5742 - val_loss: 0.6037 - val_accuracy: 0.6730\n",
      "Epoch 2/3\n",
      "250/250 [==============================] - 44s 178ms/step - loss: 0.5825 - accuracy: 0.6936 - val_loss: 0.5642 - val_accuracy: 0.7135\n",
      "Epoch 3/3\n",
      "250/250 [==============================] - 44s 175ms/step - loss: 0.5494 - accuracy: 0.7206 - val_loss: 0.5669 - val_accuracy: 0.7030\n"
     ]
    },
    {
     "data": {
      "text/plain": [
       "<tensorflow.python.keras.callbacks.History at 0x2b18d649508>"
      ]
     },
     "execution_count": 9,
     "metadata": {},
     "output_type": "execute_result"
    }
   ],
   "source": [
    "from keras.preprocessing.image import ImageDataGenerator\n",
    "\n",
    "train_datagen = ImageDataGenerator(rescale = 1./255,\n",
    "                                   shear_range = 0.2,\n",
    "                                   zoom_range = 0.2,\n",
    "                                   horizontal_flip = True)\n",
    "\n",
    "test_datagen = ImageDataGenerator(rescale = 1./255)\n",
    "\n",
    "training_set = train_datagen.flow_from_directory('dataset/training_set',\n",
    "                                                 target_size = (64, 64),\n",
    "                                                 batch_size = 32,\n",
    "                                                 class_mode = 'binary')\n",
    "\n",
    "test_set = test_datagen.flow_from_directory('dataset/test_set',\n",
    "                                            target_size = (64, 64),\n",
    "                                            batch_size = 32,\n",
    "                                            class_mode = 'binary')\n",
    "\n",
    "CNN_Classification.fit_generator(training_set,\n",
    "                         steps_per_epoch = 8000/32,\n",
    "                         epochs = 3,\n",
    "                         validation_data = test_set,\n",
    "                         validation_steps = 2000/32)"
   ]
  },
  {
   "cell_type": "code",
   "execution_count": 14,
   "metadata": {},
   "outputs": [
    {
     "name": "stdout",
     "output_type": "stream",
     "text": [
      "dog\n"
     ]
    }
   ],
   "source": [
    "# predictions for dog image using train model\n",
    "import numpy as np\n",
    "from keras.preprocessing import image\n",
    "tested_image = image.load_img('puppy21.jpg',target_size=(64,64))\n",
    "tested_image = image.img_to_array(tested_image)\n",
    "tested_image = np.expand_dims(tested_image,axis = 0)\n",
    "output = CNN_Classification.predict(tested_image)\n",
    "training_set.class_indices\n",
    "if output[0][0] ==1:\n",
    "  prediction = 'dog'\n",
    "  print(prediction )\n",
    "else:\n",
    "  prediction = 'cat'\n",
    "  print(prediction )"
   ]
  },
  {
   "cell_type": "code",
   "execution_count": 17,
   "metadata": {},
   "outputs": [
    {
     "name": "stdout",
     "output_type": "stream",
     "text": [
      "cat\n"
     ]
    }
   ],
   "source": [
    "# predictions for cat image using train model\n",
    "import numpy as np\n",
    "from keras.preprocessing import image\n",
    "tested_image = image.load_img('cat21.jpg',target_size=(64,64))\n",
    "tested_image = image.img_to_array(tested_image)\n",
    "tested_image = np.expand_dims(tested_image,axis = 0)\n",
    "output = CNN_Classification.predict(tested_image)\n",
    "training_set.class_indices\n",
    "if output[0][0] ==1:\n",
    "  prediction = 'dog'\n",
    "  print(prediction )\n",
    "else:\n",
    "  prediction = 'cat'\n",
    "  print(prediction )"
   ]
  },
  {
   "cell_type": "code",
   "execution_count": null,
   "metadata": {},
   "outputs": [],
   "source": []
  }
 ],
 "metadata": {
  "kernelspec": {
   "display_name": "Python 3",
   "language": "python",
   "name": "python3"
  },
  "language_info": {
   "codemirror_mode": {
    "name": "ipython",
    "version": 3
   },
   "file_extension": ".py",
   "mimetype": "text/x-python",
   "name": "python",
   "nbconvert_exporter": "python",
   "pygments_lexer": "ipython3",
   "version": "3.7.4"
  }
 },
 "nbformat": 4,
 "nbformat_minor": 2
}
